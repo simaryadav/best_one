{
  "nbformat": 4,
  "nbformat_minor": 0,
  "metadata": {
    "colab": {
      "provenance": [],
      "authorship_tag": "ABX9TyP3p81Phza5IZtCAUG+m/iz",
      "include_colab_link": true
    },
    "kernelspec": {
      "name": "python3",
      "display_name": "Python 3"
    },
    "language_info": {
      "name": "python"
    }
  },
  "cells": [
    {
      "cell_type": "markdown",
      "metadata": {
        "id": "view-in-github",
        "colab_type": "text"
      },
      "source": [
        "<a href=\"https://colab.research.google.com/github/simaryadav/best_one/blob/master/base_nlp.ipynb\" target=\"_parent\"><img src=\"https://colab.research.google.com/assets/colab-badge.svg\" alt=\"Open In Colab\"/></a>"
      ]
    },
    {
      "cell_type": "code",
      "execution_count": null,
      "metadata": {
        "colab": {
          "base_uri": "https://localhost:8080/"
        },
        "id": "bX4wPaamQmOk",
        "outputId": "a5310909-d9b0-4008-8e45-cc6b8c1453d3"
      },
      "outputs": [
        {
          "output_type": "stream",
          "name": "stdout",
          "text": [
            "Requirement already satisfied: nltk in /usr/local/lib/python3.10/dist-packages (3.8.1)\n",
            "Requirement already satisfied: click in /usr/local/lib/python3.10/dist-packages (from nltk) (8.1.7)\n",
            "Requirement already satisfied: joblib in /usr/local/lib/python3.10/dist-packages (from nltk) (1.4.2)\n",
            "Requirement already satisfied: regex>=2021.8.3 in /usr/local/lib/python3.10/dist-packages (from nltk) (2024.5.15)\n",
            "Requirement already satisfied: tqdm in /usr/local/lib/python3.10/dist-packages (from nltk) (4.66.5)\n"
          ]
        }
      ],
      "source": [
        "!pip install nltk"
      ]
    },
    {
      "cell_type": "code",
      "source": [
        "para = \"\"\"\n",
        "Escanor「エスカノール」 is the Lion's Sin of Pride「傲慢の罪ライオン・シン, Raion Shin」 of the Seven Deadly Sins, the former second prince of the Kingdom of Castellio, and the man known throughout the Kingdom of Liones as \"The Strongest Holy Knight\". His Sacred Treasure is the Divine Axe, Rhitta, and his inherent power is called Sunshine, which made him renowned for gaining immense power during the day, and gradually becoming weaker with the setting of the sun, leaving him frail and submissive at night.\n",
        "\"\"\""
      ],
      "metadata": {
        "id": "zilyW0vuQoCx"
      },
      "execution_count": null,
      "outputs": []
    },
    {
      "cell_type": "code",
      "source": [
        "import nltk\n",
        "from nltk.stem import PorterStemmer\n",
        "from nltk.corpus import stopwords"
      ],
      "metadata": {
        "id": "ZlQV3SgrRSrD"
      },
      "execution_count": null,
      "outputs": []
    },
    {
      "cell_type": "code",
      "source": [
        "nltk.download('punkt')\n",
        "sentence = nltk.sent_tokenize(para)"
      ],
      "metadata": {
        "colab": {
          "base_uri": "https://localhost:8080/"
        },
        "id": "xLRb0qYGRXLi",
        "outputId": "8ad853be-c675-462e-d51c-1de534b2eaac"
      },
      "execution_count": null,
      "outputs": [
        {
          "output_type": "stream",
          "name": "stderr",
          "text": [
            "[nltk_data] Downloading package punkt to /root/nltk_data...\n",
            "[nltk_data]   Unzipping tokenizers/punkt.zip.\n"
          ]
        }
      ]
    },
    {
      "cell_type": "code",
      "source": [
        "print(sentence)"
      ],
      "metadata": {
        "colab": {
          "base_uri": "https://localhost:8080/"
        },
        "id": "_at8fn90RuPP",
        "outputId": "3f1dde04-beb6-414f-c8da-78bc8837f949"
      },
      "execution_count": null,
      "outputs": [
        {
          "output_type": "stream",
          "name": "stdout",
          "text": [
            "['\\nEscanor「エスカノール」 is the Lion\\'s Sin of Pride「傲慢の罪ライオン・シン, Raion Shin」 of the Seven Deadly Sins, the former second prince of the Kingdom of Castellio, and the man known throughout the Kingdom of Liones as \"The Strongest Holy Knight\".', 'His Sacred Treasure is the Divine Axe, Rhitta, and his inherent power is called Sunshine, which made him renowned for gaining immense power during the day, and gradually becoming weaker with the setting of the sun, leaving him frail and submissive at night.']\n"
          ]
        }
      ]
    },
    {
      "cell_type": "code",
      "source": [
        "stemmer = PorterStemmer()"
      ],
      "metadata": {
        "id": "UFgVYSArR3DL"
      },
      "execution_count": null,
      "outputs": []
    },
    {
      "cell_type": "code",
      "source": [
        "from nltk.stem import WordNetLemmatizer"
      ],
      "metadata": {
        "id": "l-J2T8xpSJYU"
      },
      "execution_count": null,
      "outputs": []
    },
    {
      "cell_type": "code",
      "source": [
        "lemma = WordNetLemmatizer()"
      ],
      "metadata": {
        "id": "bFJGNkQjSbXJ"
      },
      "execution_count": null,
      "outputs": []
    },
    {
      "cell_type": "code",
      "source": [
        "len(sentence)"
      ],
      "metadata": {
        "colab": {
          "base_uri": "https://localhost:8080/"
        },
        "id": "-xQ4qbzOSjVn",
        "outputId": "0712c08a-846d-4581-efdb-26265bbed719"
      },
      "execution_count": null,
      "outputs": [
        {
          "output_type": "execute_result",
          "data": {
            "text/plain": [
              "2"
            ]
          },
          "metadata": {},
          "execution_count": 9
        }
      ]
    },
    {
      "cell_type": "code",
      "source": [
        "import re"
      ],
      "metadata": {
        "id": "vxNkTpyESnTz"
      },
      "execution_count": null,
      "outputs": []
    },
    {
      "cell_type": "code",
      "source": [
        "corpus = []\n",
        "for i in range(len(sentence)):\n",
        "  review = re.sub('[^a-zA-Z]',' ', sentence[i])\n",
        "  review = review.lower()\n",
        "  corpus.append(review)"
      ],
      "metadata": {
        "id": "JTGsmF5re0gN"
      },
      "execution_count": null,
      "outputs": []
    },
    {
      "cell_type": "code",
      "source": [
        "corpus"
      ],
      "metadata": {
        "colab": {
          "base_uri": "https://localhost:8080/"
        },
        "id": "cB8iu6oVe0c3",
        "outputId": "d246db83-449e-4f05-e255-175cb673fde6"
      },
      "execution_count": null,
      "outputs": [
        {
          "output_type": "execute_result",
          "data": {
            "text/plain": [
              "[' escanor         is the lion s sin of pride              raion shin  of the seven deadly sins  the former second prince of the kingdom of castellio  and the man known throughout the kingdom of liones as  the strongest holy knight  ',\n",
              " 'his sacred treasure is the divine axe  rhitta  and his inherent power is called sunshine  which made him renowned for gaining immense power during the day  and gradually becoming weaker with the setting of the sun  leaving him frail and submissive at night ']"
            ]
          },
          "metadata": {},
          "execution_count": 12
        }
      ]
    },
    {
      "cell_type": "code",
      "source": [
        "nltk.download('stopwords')"
      ],
      "metadata": {
        "colab": {
          "base_uri": "https://localhost:8080/"
        },
        "id": "Gx9fXGsTncTP",
        "outputId": "115e411b-f5c5-4b8c-b447-afd90a7f9a63"
      },
      "execution_count": null,
      "outputs": [
        {
          "output_type": "stream",
          "name": "stderr",
          "text": [
            "[nltk_data] Downloading package stopwords to /root/nltk_data...\n",
            "[nltk_data]   Unzipping corpora/stopwords.zip.\n"
          ]
        },
        {
          "output_type": "execute_result",
          "data": {
            "text/plain": [
              "True"
            ]
          },
          "metadata": {},
          "execution_count": 13
        }
      ]
    },
    {
      "cell_type": "code",
      "source": [
        "for i in corpus:\n",
        "  words = nltk.word_tokenize(i)\n",
        "  for word in words:\n",
        "    if word not in set(stopwords.words(\"english\")):\n",
        "      print(stemmer.stem(word))"
      ],
      "metadata": {
        "colab": {
          "base_uri": "https://localhost:8080/"
        },
        "id": "78hOYwQ-e0Zr",
        "outputId": "1cc91284-a500-4b82-b922-3ec6fce29b1e"
      },
      "execution_count": null,
      "outputs": [
        {
          "output_type": "stream",
          "name": "stdout",
          "text": [
            "escanor\n",
            "lion\n",
            "sin\n",
            "pride\n",
            "raion\n",
            "shin\n",
            "seven\n",
            "deadli\n",
            "sin\n",
            "former\n",
            "second\n",
            "princ\n",
            "kingdom\n",
            "castellio\n",
            "man\n",
            "known\n",
            "throughout\n",
            "kingdom\n",
            "lion\n",
            "strongest\n",
            "holi\n",
            "knight\n",
            "sacr\n",
            "treasur\n",
            "divin\n",
            "axe\n",
            "rhitta\n",
            "inher\n",
            "power\n",
            "call\n",
            "sunshin\n",
            "made\n",
            "renown\n",
            "gain\n",
            "immens\n",
            "power\n",
            "day\n",
            "gradual\n",
            "becom\n",
            "weaker\n",
            "set\n",
            "sun\n",
            "leav\n",
            "frail\n",
            "submiss\n",
            "night\n"
          ]
        }
      ]
    },
    {
      "cell_type": "code",
      "source": [
        "# prompt: make it work\n",
        "\n",
        "nltk.download('wordnet')\n",
        "for i in corpus:\n",
        "  words = nltk.word_tokenize(i)\n",
        "  for word in words:\n",
        "    if word not in set(stopwords.words(\"english\")):\n",
        "      print(lemma.lemmatize(word))"
      ],
      "metadata": {
        "colab": {
          "base_uri": "https://localhost:8080/"
        },
        "id": "tSTnIAGpe0QA",
        "outputId": "5db78d81-0f9b-4ca6-f9f1-95c8b01cdedc"
      },
      "execution_count": null,
      "outputs": [
        {
          "output_type": "stream",
          "name": "stderr",
          "text": [
            "[nltk_data] Downloading package wordnet to /root/nltk_data...\n"
          ]
        },
        {
          "output_type": "stream",
          "name": "stdout",
          "text": [
            "escanor\n",
            "lion\n",
            "sin\n",
            "pride\n",
            "raion\n",
            "shin\n",
            "seven\n",
            "deadly\n",
            "sin\n",
            "former\n",
            "second\n",
            "prince\n",
            "kingdom\n",
            "castellio\n",
            "man\n",
            "known\n",
            "throughout\n",
            "kingdom\n",
            "liones\n",
            "strongest\n",
            "holy\n",
            "knight\n",
            "sacred\n",
            "treasure\n",
            "divine\n",
            "axe\n",
            "rhitta\n",
            "inherent\n",
            "power\n",
            "called\n",
            "sunshine\n",
            "made\n",
            "renowned\n",
            "gaining\n",
            "immense\n",
            "power\n",
            "day\n",
            "gradually\n",
            "becoming\n",
            "weaker\n",
            "setting\n",
            "sun\n",
            "leaving\n",
            "frail\n",
            "submissive\n",
            "night\n"
          ]
        }
      ]
    },
    {
      "cell_type": "code",
      "source": [
        "# prompt: import sklearn and count vectorizer\n",
        "from sklearn.feature_extraction.text import CountVectorizer\n",
        "cv = CountVectorizer()"
      ],
      "metadata": {
        "id": "GkSMmINne0Mq"
      },
      "execution_count": null,
      "outputs": []
    },
    {
      "cell_type": "code",
      "source": [
        "X = cv.fit_transform(corpus)"
      ],
      "metadata": {
        "id": "NaEsF2wZe0Jj"
      },
      "execution_count": null,
      "outputs": []
    },
    {
      "cell_type": "code",
      "source": [
        "cv.vocabulary_"
      ],
      "metadata": {
        "colab": {
          "base_uri": "https://localhost:8080/"
        },
        "id": "K1j9famAez3w",
        "outputId": "1d94fcfe-20be-45c0-d24e-d3b8b5ff984a"
      },
      "execution_count": null,
      "outputs": [
        {
          "output_type": "execute_result",
          "data": {
            "text/plain": [
              "{'escanor': 11,\n",
              " 'is': 22,\n",
              " 'the': 50,\n",
              " 'lion': 27,\n",
              " 'sin': 44,\n",
              " 'of': 32,\n",
              " 'pride': 34,\n",
              " 'raion': 36,\n",
              " 'shin': 43,\n",
              " 'seven': 42,\n",
              " 'deadly': 8,\n",
              " 'sins': 45,\n",
              " 'former': 13,\n",
              " 'second': 40,\n",
              " 'prince': 35,\n",
              " 'kingdom': 23,\n",
              " 'castellio': 6,\n",
              " 'and': 0,\n",
              " 'man': 30,\n",
              " 'known': 25,\n",
              " 'throughout': 51,\n",
              " 'liones': 28,\n",
              " 'as': 1,\n",
              " 'strongest': 46,\n",
              " 'holy': 19,\n",
              " 'knight': 24,\n",
              " 'his': 18,\n",
              " 'sacred': 39,\n",
              " 'treasure': 52,\n",
              " 'divine': 9,\n",
              " 'axe': 3,\n",
              " 'rhitta': 38,\n",
              " 'inherent': 21,\n",
              " 'power': 33,\n",
              " 'called': 5,\n",
              " 'sunshine': 49,\n",
              " 'which': 54,\n",
              " 'made': 29,\n",
              " 'him': 17,\n",
              " 'renowned': 37,\n",
              " 'for': 12,\n",
              " 'gaining': 15,\n",
              " 'immense': 20,\n",
              " 'during': 10,\n",
              " 'day': 7,\n",
              " 'gradually': 16,\n",
              " 'becoming': 4,\n",
              " 'weaker': 53,\n",
              " 'with': 55,\n",
              " 'setting': 41,\n",
              " 'sun': 48,\n",
              " 'leaving': 26,\n",
              " 'frail': 14,\n",
              " 'submissive': 47,\n",
              " 'at': 2,\n",
              " 'night': 31}"
            ]
          },
          "metadata": {},
          "execution_count": 18
        }
      ]
    },
    {
      "cell_type": "code",
      "source": [
        "from sklearn.feature_extraction.text import CountVectorizer\n",
        "cv = CountVectorizer(ngram_range=(2,3))"
      ],
      "metadata": {
        "id": "8IYWcn6Dez1G"
      },
      "execution_count": null,
      "outputs": []
    },
    {
      "cell_type": "code",
      "source": [
        "X = cv.fit_transform(corpus)"
      ],
      "metadata": {
        "id": "dY9Q5SyvezyJ"
      },
      "execution_count": null,
      "outputs": []
    },
    {
      "cell_type": "code",
      "source": [
        "cv.vocabulary_"
      ],
      "metadata": {
        "colab": {
          "base_uri": "https://localhost:8080/"
        },
        "id": "Sp0-iIagezvO",
        "outputId": "a2b17e6f-7e39-478c-9255-72b9052d6a7e"
      },
      "execution_count": null,
      "outputs": [
        {
          "output_type": "execute_result",
          "data": {
            "text/plain": [
              "{'escanor is': 27,\n",
              " 'is the': 54,\n",
              " 'the lion': 126,\n",
              " 'lion sin': 64,\n",
              " 'sin of': 106,\n",
              " 'of pride': 76,\n",
              " 'pride raion': 86,\n",
              " 'raion shin': 90,\n",
              " 'shin of': 104,\n",
              " 'of the': 78,\n",
              " 'the seven': 132,\n",
              " 'seven deadly': 102,\n",
              " 'deadly sins': 21,\n",
              " 'sins the': 108,\n",
              " 'the former': 122,\n",
              " 'former second': 31,\n",
              " 'second prince': 98,\n",
              " 'prince of': 88,\n",
              " 'the kingdom': 124,\n",
              " 'kingdom of': 57,\n",
              " 'of castellio': 72,\n",
              " 'castellio and': 17,\n",
              " 'and the': 6,\n",
              " 'the man': 128,\n",
              " 'man known': 70,\n",
              " 'known throughout': 60,\n",
              " 'throughout the': 138,\n",
              " 'of liones': 74,\n",
              " 'liones as': 66,\n",
              " 'as the': 8,\n",
              " 'the strongest': 134,\n",
              " 'strongest holy': 110,\n",
              " 'holy knight': 47,\n",
              " 'escanor is the': 28,\n",
              " 'is the lion': 56,\n",
              " 'the lion sin': 127,\n",
              " 'lion sin of': 65,\n",
              " 'sin of pride': 107,\n",
              " 'of pride raion': 77,\n",
              " 'pride raion shin': 87,\n",
              " 'raion shin of': 91,\n",
              " 'shin of the': 105,\n",
              " 'of the seven': 80,\n",
              " 'the seven deadly': 133,\n",
              " 'seven deadly sins': 103,\n",
              " 'deadly sins the': 22,\n",
              " 'sins the former': 109,\n",
              " 'the former second': 123,\n",
              " 'former second prince': 32,\n",
              " 'second prince of': 99,\n",
              " 'prince of the': 89,\n",
              " 'of the kingdom': 79,\n",
              " 'the kingdom of': 125,\n",
              " 'kingdom of castellio': 58,\n",
              " 'of castellio and': 73,\n",
              " 'castellio and the': 18,\n",
              " 'and the man': 7,\n",
              " 'the man known': 129,\n",
              " 'man known throughout': 71,\n",
              " 'known throughout the': 61,\n",
              " 'throughout the kingdom': 139,\n",
              " 'kingdom of liones': 59,\n",
              " 'of liones as': 75,\n",
              " 'liones as the': 67,\n",
              " 'as the strongest': 9,\n",
              " 'the strongest holy': 135,\n",
              " 'strongest holy knight': 111,\n",
              " 'his sacred': 45,\n",
              " 'sacred treasure': 96,\n",
              " 'treasure is': 140,\n",
              " 'the divine': 120,\n",
              " 'divine axe': 23,\n",
              " 'axe rhitta': 11,\n",
              " 'rhitta and': 94,\n",
              " 'and his': 2,\n",
              " 'his inherent': 43,\n",
              " 'inherent power': 50,\n",
              " 'power is': 84,\n",
              " 'is called': 52,\n",
              " 'called sunshine': 15,\n",
              " 'sunshine which': 116,\n",
              " 'which made': 144,\n",
              " 'made him': 68,\n",
              " 'him renowned': 41,\n",
              " 'renowned for': 92,\n",
              " 'for gaining': 29,\n",
              " 'gaining immense': 35,\n",
              " 'immense power': 48,\n",
              " 'power during': 82,\n",
              " 'during the': 25,\n",
              " 'the day': 118,\n",
              " 'day and': 19,\n",
              " 'and gradually': 0,\n",
              " 'gradually becoming': 37,\n",
              " 'becoming weaker': 13,\n",
              " 'weaker with': 142,\n",
              " 'with the': 146,\n",
              " 'the setting': 130,\n",
              " 'setting of': 100,\n",
              " 'the sun': 136,\n",
              " 'sun leaving': 114,\n",
              " 'leaving him': 62,\n",
              " 'him frail': 39,\n",
              " 'frail and': 33,\n",
              " 'and submissive': 4,\n",
              " 'submissive at': 112,\n",
              " 'at night': 10,\n",
              " 'his sacred treasure': 46,\n",
              " 'sacred treasure is': 97,\n",
              " 'treasure is the': 141,\n",
              " 'is the divine': 55,\n",
              " 'the divine axe': 121,\n",
              " 'divine axe rhitta': 24,\n",
              " 'axe rhitta and': 12,\n",
              " 'rhitta and his': 95,\n",
              " 'and his inherent': 3,\n",
              " 'his inherent power': 44,\n",
              " 'inherent power is': 51,\n",
              " 'power is called': 85,\n",
              " 'is called sunshine': 53,\n",
              " 'called sunshine which': 16,\n",
              " 'sunshine which made': 117,\n",
              " 'which made him': 145,\n",
              " 'made him renowned': 69,\n",
              " 'him renowned for': 42,\n",
              " 'renowned for gaining': 93,\n",
              " 'for gaining immense': 30,\n",
              " 'gaining immense power': 36,\n",
              " 'immense power during': 49,\n",
              " 'power during the': 83,\n",
              " 'during the day': 26,\n",
              " 'the day and': 119,\n",
              " 'day and gradually': 20,\n",
              " 'and gradually becoming': 1,\n",
              " 'gradually becoming weaker': 38,\n",
              " 'becoming weaker with': 14,\n",
              " 'weaker with the': 143,\n",
              " 'with the setting': 147,\n",
              " 'the setting of': 131,\n",
              " 'setting of the': 101,\n",
              " 'of the sun': 81,\n",
              " 'the sun leaving': 137,\n",
              " 'sun leaving him': 115,\n",
              " 'leaving him frail': 63,\n",
              " 'him frail and': 40,\n",
              " 'frail and submissive': 34,\n",
              " 'and submissive at': 5,\n",
              " 'submissive at night': 113}"
            ]
          },
          "metadata": {},
          "execution_count": 25
        }
      ]
    },
    {
      "cell_type": "code",
      "source": [
        "## TF-IDF\n",
        "from sklearn.feature_extraction.text import TfidfVectorizer\n",
        "cv = TfidfVectorizer()\n",
        "x = cv.fit_transform(corpus)"
      ],
      "metadata": {
        "id": "Cpo3sxJCezsB"
      },
      "execution_count": null,
      "outputs": []
    },
    {
      "cell_type": "code",
      "source": [
        "corpus[0]"
      ],
      "metadata": {
        "colab": {
          "base_uri": "https://localhost:8080/",
          "height": 53
        },
        "id": "61J7DxFpezo8",
        "outputId": "f0dccaae-bc20-4a00-e754-1d4acebdee7b"
      },
      "execution_count": null,
      "outputs": [
        {
          "output_type": "execute_result",
          "data": {
            "text/plain": [
              "' escanor         is the lion s sin of pride              raion shin  of the seven deadly sins  the former second prince of the kingdom of castellio  and the man known throughout the kingdom of liones as  the strongest holy knight  '"
            ],
            "application/vnd.google.colaboratory.intrinsic+json": {
              "type": "string"
            }
          },
          "metadata": {},
          "execution_count": 27
        }
      ]
    },
    {
      "cell_type": "code",
      "source": [
        "x.toarray()[0]"
      ],
      "metadata": {
        "colab": {
          "base_uri": "https://localhost:8080/"
        },
        "id": "tdv16x9Eezlw",
        "outputId": "a94ddbc3-936a-496e-ce47-69c3c701f827"
      },
      "execution_count": null,
      "outputs": [
        {
          "output_type": "execute_result",
          "data": {
            "text/plain": [
              "array([0.0893059 , 0.12551632, 0.        , 0.        , 0.        ,\n",
              "       0.        , 0.12551632, 0.        , 0.12551632, 0.        ,\n",
              "       0.        , 0.12551632, 0.        , 0.12551632, 0.        ,\n",
              "       0.        , 0.        , 0.        , 0.        , 0.12551632,\n",
              "       0.        , 0.        , 0.0893059 , 0.25103265, 0.12551632,\n",
              "       0.12551632, 0.        , 0.12551632, 0.12551632, 0.        ,\n",
              "       0.12551632, 0.        , 0.44652949, 0.        , 0.12551632,\n",
              "       0.12551632, 0.12551632, 0.        , 0.        , 0.        ,\n",
              "       0.12551632, 0.        , 0.12551632, 0.12551632, 0.12551632,\n",
              "       0.12551632, 0.12551632, 0.        , 0.        , 0.        ,\n",
              "       0.62514129, 0.12551632, 0.        , 0.        , 0.        ,\n",
              "       0.        ])"
            ]
          },
          "metadata": {},
          "execution_count": 29
        }
      ]
    },
    {
      "cell_type": "code",
      "source": [],
      "metadata": {
        "id": "sxA86E1deziv"
      },
      "execution_count": null,
      "outputs": []
    }
  ]
}